{
 "cells": [
  {
   "cell_type": "code",
   "execution_count": 164,
   "id": "03f57fa7",
   "metadata": {},
   "outputs": [
    {
     "name": "stdout",
     "output_type": "stream",
     "text": [
      "Player has ['9 of Clubs', '7 of Spades'] for a total of 16\n",
      "Dealer is showing 4 of Diamonds face up\n"
     ]
    }
   ],
   "source": [
    "### Define a deck of cards\n",
    "import random\n",
    "deck_of_cards = []\n",
    "suits = ['Spades', 'Hearts', 'Clubs', 'Diamonds']\n",
    "values = ['Ace', 'King', 'Queen', 'Jack', 10, 9, 8, 7, 6, 5, 4, 3, 2]\n",
    "\n",
    "dealer = []\n",
    "player = []\n",
    "\n",
    "for value in values:\n",
    "    for suit in suits:\n",
    "        deck_of_cards.append(str(value) + ' of ' + suit)\n",
    "    \n",
    "### Bet / Balance\n",
    "\n",
    "\n",
    "### Deal cards to players / dealer\n",
    "\n",
    "def player_deal():\n",
    "    while len(player)<2:\n",
    "        card = random.choice(deck_of_cards)\n",
    "        player.append(card)\n",
    "        deck_of_cards.remove(card)\n",
    "    print('Player has', end =\" \")\n",
    "    count_cards(player)\n",
    "        \n",
    "def dealer_deal():\n",
    "    while len(dealer)<2:\n",
    "        card = random.choice(deck_of_cards)\n",
    "        dealer.append(card)\n",
    "        deck_of_cards.remove(card)\n",
    "    print('Dealer is showing ' + str(dealer[0]) + ' face up')\n",
    "\n",
    "\n",
    "### count cards\n",
    "\n",
    "def count_cards(hand):\n",
    "    face = ['King of Spades', 'Queen of Spades', 'Jack of Spades', 'King of Hearts', 'Queen of Hearts', 'Jack of Hearts',\\\n",
    "            'King of Clubs', 'Queen of Clubs', 'Jack of Clubs', 'King of Diamonds', 'Queen of Diamonds', 'Jack of Diamonds',\\\n",
    "           '10 of Spades', '10 of Hearts', '10 of Clubs', '10 of Diamonds']\n",
    "    aces = ['Ace of Spades', 'Ace of Hearts', 'Ace of Clubs', 'Ace of Diamonds', ]\n",
    "    other = ['9 of Spades', '9 of Hearts', '9 of Clubs',\\\n",
    "             '9 of Diamonds', '8 of Spades', '8 of Hearts', '8 of Clubs', '8 of Diamonds', '7 of Spades', '7 of Hearts',\\\n",
    "             '7 of Clubs', '7 of Diamonds', '6 of Hearts', '6 of Clubs', '6 of Diamonds', '5 of Spades', '5 of Hearts',\\\n",
    "             '5 of Clubs', '5 of Diamonds', '4 of Spades', '4 of Hearts', '4 of Clubs', '4 of Diamonds', '3 of Spades',\\\n",
    "             '3 of Hearts', '3 of Clubs', '3 of Diamonds', '2 of Spades', '2 of Hearts', '2 of Clubs', '2 of Diamonds']\n",
    "    total = 0\n",
    "    for card in hand:\n",
    "        if card in face:\n",
    "            total += 10\n",
    "        if card in other:\n",
    "            total += int(card[0])\n",
    "        if card in aces:\n",
    "            total += 11\n",
    "    print(str(hand) + ' for a total of ' + str(total))\n",
    "\n",
    "player_deal()\n",
    "dealer_deal()\n",
    "\n",
    "\n",
    "# Options / hit / stay / split / double\n",
    "\n",
    "\n",
    "\n",
    "# Dealer IF statements\n",
    "\n",
    "# Determine winner and pay"
   ]
  }
 ],
 "metadata": {
  "kernelspec": {
   "display_name": "Python 3 (ipykernel)",
   "language": "python",
   "name": "python3"
  },
  "language_info": {
   "codemirror_mode": {
    "name": "ipython",
    "version": 3
   },
   "file_extension": ".py",
   "mimetype": "text/x-python",
   "name": "python",
   "nbconvert_exporter": "python",
   "pygments_lexer": "ipython3",
   "version": "3.9.7"
  }
 },
 "nbformat": 4,
 "nbformat_minor": 5
}
